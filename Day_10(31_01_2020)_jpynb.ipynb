{
  "nbformat": 4,
  "nbformat_minor": 0,
  "metadata": {
    "colab": {
      "name": "Day-10(31-01-2020).jpynb",
      "provenance": [],
      "collapsed_sections": [],
      "authorship_tag": "ABX9TyNq0L26GyNIpvv1LnC8xtLR",
      "include_colab_link": true
    },
    "kernelspec": {
      "name": "python3",
      "display_name": "Python 3"
    }
  },
  "cells": [
    {
      "cell_type": "markdown",
      "metadata": {
        "id": "view-in-github",
        "colab_type": "text"
      },
      "source": [
        "<a href=\"https://colab.research.google.com/github/mkpriyaa/Weather-app/blob/master/Day_10(31_01_2020)_jpynb.ipynb\" target=\"_parent\"><img src=\"https://colab.research.google.com/assets/colab-badge.svg\" alt=\"Open In Colab\"/></a>"
      ]
    },
    {
      "cell_type": "code",
      "metadata": {
        "id": "OShLj3S8w8rn",
        "colab_type": "code",
        "colab": {}
      },
      "source": [
        ""
      ],
      "execution_count": 0,
      "outputs": []
    },
    {
      "cell_type": "markdown",
      "metadata": {
        "id": "IsICccpQxT23",
        "colab_type": "text"
      },
      "source": [
        "# Loops\n",
        "### WHILE LOOP\n",
        "### FOR LOOP\n"
      ]
    },
    {
      "cell_type": "code",
      "metadata": {
        "id": "QuztPGMmxjRq",
        "colab_type": "code",
        "colab": {}
      },
      "source": [
        ""
      ],
      "execution_count": 0,
      "outputs": []
    },
    {
      "cell_type": "markdown",
      "metadata": {
        "id": "Slv5vUF6xkJv",
        "colab_type": "text"
      },
      "source": [
        "## PRINT NUM FROM NUMS FROM 1 TO 10\n"
      ]
    },
    {
      "cell_type": "code",
      "metadata": {
        "id": "GzE786jWxpCX",
        "colab_type": "code",
        "outputId": "205a3b8f-9544-4a18-e05e-9ce8bb32fdf4",
        "colab": {
          "base_uri": "https://localhost:8080/",
          "height": 51
        }
      },
      "source": [
        "n=int(input(\"enter a num\"))\n",
        "i = 1\n",
        "while(i<=n):\n",
        " print(i,end=\" \")\n",
        " i=i+1"
      ],
      "execution_count": 0,
      "outputs": [
        {
          "output_type": "stream",
          "text": [
            "enter a num10\n",
            "1 2 3 4 5 6 7 8 9 10 "
          ],
          "name": "stdout"
        }
      ]
    },
    {
      "cell_type": "markdown",
      "metadata": {
        "id": "U9y4LuvezV-M",
        "colab_type": "text"
      },
      "source": [
        "# print sum of even nums\n"
      ]
    },
    {
      "cell_type": "code",
      "metadata": {
        "id": "udwobsTNzbJj",
        "colab_type": "code",
        "outputId": "01203681-b1f5-4da1-b9cb-3446dd5f7c87",
        "colab": {
          "base_uri": "https://localhost:8080/",
          "height": 51
        }
      },
      "source": [
        "n=int(input(\"enter a num\"))\n",
        "sum=0\n",
        "i=1\n",
        "while i<=n:\n",
        "  if(i%2==0):\n",
        "     sum=sum+i\n",
        "  i=i+1\n",
        "print(sum)\n"
      ],
      "execution_count": 0,
      "outputs": [
        {
          "output_type": "stream",
          "text": [
            "enter a num10\n",
            "20\n"
          ],
          "name": "stdout"
        }
      ]
    },
    {
      "cell_type": "markdown",
      "metadata": {
        "id": "m4wVUux_5F9x",
        "colab_type": "text"
      },
      "source": [
        "# palindrome"
      ]
    },
    {
      "cell_type": "code",
      "metadata": {
        "id": "GfrR0Abr1qtH",
        "colab_type": "code",
        "outputId": "08645e44-171f-4ae1-8801-cc6024ee721f",
        "colab": {
          "base_uri": "https://localhost:8080/",
          "height": 51
        }
      },
      "source": [
        "n=int(input(\"enter a num\"))\n",
        "rev=0\n",
        "rem=0\n",
        "t=n\n",
        "while(n>0):\n",
        "  rem=n%10\n",
        "  n=(n//10)\n",
        "  rev=rev*10+rem\n",
        "if(rev==t):\n",
        "  print(t,\"is a palindrome\")\n",
        "else:\n",
        "  print(\"not a palindrome\")"
      ],
      "execution_count": 0,
      "outputs": [
        {
          "output_type": "stream",
          "text": [
            "enter a num121\n",
            "121 is a palindrome\n"
          ],
          "name": "stdout"
        }
      ]
    },
    {
      "cell_type": "markdown",
      "metadata": {
        "id": "gpWyXpsV9Jh0",
        "colab_type": "text"
      },
      "source": [
        "#functional pgmg\n",
        "- simple\n",
        "- easy to unserstand\n",
        "- better reuseability\n",
        "- lengthy pgm will be divided into sub pgms\n"
      ]
    },
    {
      "cell_type": "code",
      "metadata": {
        "id": "2wEmzwu0-JOC",
        "colab_type": "code",
        "colab": {}
      },
      "source": [
        ""
      ],
      "execution_count": 0,
      "outputs": []
    },
    {
      "cell_type": "markdown",
      "metadata": {
        "id": "CWQXYUUv-jZj",
        "colab_type": "text"
      },
      "source": [
        "# syntax\n",
        "- def NameofFunctionname(parameters):\n",
        "\n",
        " statements\n",
        "\n",
        " return\n"
      ]
    },
    {
      "cell_type": "markdown",
      "metadata": {
        "id": "nPax9hZw-Jrf",
        "colab_type": "text"
      },
      "source": [
        "# print sum of even num\n"
      ]
    },
    {
      "cell_type": "code",
      "metadata": {
        "id": "fkgeYD4B-Wdq",
        "colab_type": "code",
        "outputId": "4257d1c5-e8bc-49c3-c3fe-885864827472",
        "colab": {
          "base_uri": "https://localhost:8080/",
          "height": 34
        }
      },
      "source": [
        "def sumofevendigits(n):\n",
        "  sum=0\n",
        "  while n!=0:\n",
        "    rem=n%10\n",
        "    if(rem%2==0):\n",
        "      sum=sum+rem\n",
        "    n=n//10\n",
        "  return sum\n",
        "sumofevendigits(1234)\n",
        "\n"
      ],
      "execution_count": 0,
      "outputs": [
        {
          "output_type": "execute_result",
          "data": {
            "text/plain": [
              "6"
            ]
          },
          "metadata": {
            "tags": []
          },
          "execution_count": 36
        }
      ]
    },
    {
      "cell_type": "markdown",
      "metadata": {
        "id": "tixz1vU_FH8a",
        "colab_type": "text"
      },
      "source": [
        "# print largest num in a given num\n"
      ]
    },
    {
      "cell_type": "code",
      "metadata": {
        "id": "GKyGHCoX-1r_",
        "colab_type": "code",
        "outputId": "671d6e09-d954-4b18-a0fd-966b53148adf",
        "colab": {
          "base_uri": "https://localhost:8080/",
          "height": 34
        }
      },
      "source": [
        "def large(n):\n",
        "  lar=0\n",
        "  while n!=0:\n",
        "    rem=n%10\n",
        "    if(lar<rem):\n",
        "      lar=rem\n",
        "    n=n//10\n",
        "  return lar  \n",
        "large(123345)\n"
      ],
      "execution_count": 0,
      "outputs": [
        {
          "output_type": "execute_result",
          "data": {
            "text/plain": [
              "5"
            ]
          },
          "metadata": {
            "tags": []
          },
          "execution_count": 39
        }
      ]
    },
    {
      "cell_type": "markdown",
      "metadata": {
        "id": "m8LZArfDIT3O",
        "colab_type": "text"
      },
      "source": [
        "# for loop\n",
        "### syntax\n",
        "- for in range(start,stop,step):\n",
        "        statements\n",
        "        "
      ]
    },
    {
      "cell_type": "code",
      "metadata": {
        "id": "KKIEgUVhI2BM",
        "colab_type": "code",
        "colab": {}
      },
      "source": [
        ""
      ],
      "execution_count": 0,
      "outputs": []
    },
    {
      "cell_type": "markdown",
      "metadata": {
        "id": "I_DFPb5AJFuN",
        "colab_type": "text"
      },
      "source": [
        "# print the nums between limits\n",
        "# input:11 25\n",
        "# output:11 12 13 14 ........24 25\n"
      ]
    },
    {
      "cell_type": "code",
      "metadata": {
        "id": "kr4wbgKpJWgm",
        "colab_type": "code",
        "outputId": "7ee11a64-6c70-4792-fa21-09ea0c0945ce",
        "colab": {
          "base_uri": "https://localhost:8080/",
          "height": 34
        }
      },
      "source": [
        "def printseries(fn,ln):\n",
        "   for i in range(fn,ln+1):\n",
        "      print(i,end=\" \")\n",
        "   return\n",
        "printseries(11,25)"
      ],
      "execution_count": 0,
      "outputs": [
        {
          "output_type": "stream",
          "text": [
            "11 12 13 14 15 16 17 18 19 20 21 22 23 24 "
          ],
          "name": "stdout"
        }
      ]
    },
    {
      "cell_type": "code",
      "metadata": {
        "id": "MoI8CJwnJRz1",
        "colab_type": "code",
        "colab": {}
      },
      "source": [
        ""
      ],
      "execution_count": 0,
      "outputs": []
    },
    {
      "cell_type": "markdown",
      "metadata": {
        "id": "qlVE6bCNK0Dk",
        "colab_type": "text"
      },
      "source": [
        "# input:500,520\n",
        "# op:500,504,508.....\n"
      ]
    },
    {
      "cell_type": "code",
      "metadata": {
        "id": "oxac9bYMLFo-",
        "colab_type": "code",
        "outputId": "c2f1cc63-862f-4084-fa61-7e8e7c615488",
        "colab": {
          "base_uri": "https://localhost:8080/",
          "height": 34
        }
      },
      "source": [
        "def printseries(fn,ln):\n",
        "   for i in range(fn,ln+1,4):\n",
        "      print(i,end=\" \")\n",
        "   return\n",
        "printseries(500,520)"
      ],
      "execution_count": 0,
      "outputs": [
        {
          "output_type": "stream",
          "text": [
            "500 504 508 512 516 520 "
          ],
          "name": "stdout"
        }
      ]
    },
    {
      "cell_type": "code",
      "metadata": {
        "id": "J-zOObd1NETX",
        "colab_type": "code",
        "colab": {}
      },
      "source": [
        ""
      ],
      "execution_count": 0,
      "outputs": []
    },
    {
      "cell_type": "markdown",
      "metadata": {
        "id": "1UyLs6w8NEbo",
        "colab_type": "text"
      },
      "source": [
        "# collection types\n",
        "- list\n",
        "- tuple\n",
        "- dictionary\n",
        "## list\n",
        " - one of the data structure in python\n",
        " - data structure means to store,sort and search options\n",
        " - its one common data structure in python,the item of list separated by comma and enclosed by square brackets.\n",
        " - list is mutable(i.e values can change)\n",
        " - ex:\n",
        " - list1=[1,2,3,4,5] \n",
        " - list2=[\"nani\",\"rama\"]\n",
        "\n",
        " "
      ]
    },
    {
      "cell_type": "code",
      "metadata": {
        "id": "pAgHk1opO6ym",
        "colab_type": "code",
        "outputId": "52d80a3c-8c8d-43fa-b59c-e768d0386b69",
        "colab": {
          "base_uri": "https://localhost:8080/",
          "height": 119
        }
      },
      "source": [
        "li=[1,2,3,4]\n",
        "print(li)\n",
        "print(li[2])\n",
        "print([-3])\n",
        "print(li[2:])\n",
        "print(li[2:4])\n",
        "print(li[-3:-1])"
      ],
      "execution_count": 0,
      "outputs": [
        {
          "output_type": "stream",
          "text": [
            "[1, 2, 3, 4]\n",
            "3\n",
            "[-3]\n",
            "[3, 4]\n",
            "[3, 4]\n",
            "[2, 3]\n"
          ],
          "name": "stdout"
        }
      ]
    },
    {
      "cell_type": "code",
      "metadata": {
        "id": "DeKlJV1cRhVp",
        "colab_type": "code",
        "outputId": "32228741-9bf0-4ba2-8d0b-87c78e0b2cea",
        "colab": {
          "base_uri": "https://localhost:8080/",
          "height": 34
        }
      },
      "source": [
        "name='dave'\n",
        "print(name)\n"
      ],
      "execution_count": 0,
      "outputs": [
        {
          "output_type": "stream",
          "text": [
            "dave\n"
          ],
          "name": "stdout"
        }
      ]
    },
    {
      "cell_type": "code",
      "metadata": {
        "id": "NaELxCBwR56J",
        "colab_type": "code",
        "outputId": "a84ffdfa-5a02-494c-aa7a-d956a9abc07c",
        "colab": {
          "base_uri": "https://localhost:8080/",
          "height": 180
        }
      },
      "source": [
        "a=true,b=false\n",
        "print(aandb)"
      ],
      "execution_count": 0,
      "outputs": [
        {
          "output_type": "error",
          "ename": "NameError",
          "evalue": "ignored",
          "traceback": [
            "\u001b[0;31m---------------------------------------------------------------------------\u001b[0m",
            "\u001b[0;31mNameError\u001b[0m                                 Traceback (most recent call last)",
            "\u001b[0;32m<ipython-input-53-6d954a577e99>\u001b[0m in \u001b[0;36m<module>\u001b[0;34m()\u001b[0m\n\u001b[0;32m----> 1\u001b[0;31m \u001b[0ma\u001b[0m\u001b[0;34m=\u001b[0m\u001b[0mtrue\u001b[0m\u001b[0;34m,\u001b[0m\u001b[0mb\u001b[0m\u001b[0;34m=\u001b[0m\u001b[0mfalse\u001b[0m\u001b[0;34m\u001b[0m\u001b[0;34m\u001b[0m\u001b[0m\n\u001b[0m\u001b[1;32m      2\u001b[0m \u001b[0mprint\u001b[0m\u001b[0;34m(\u001b[0m\u001b[0maandb\u001b[0m\u001b[0;34m)\u001b[0m\u001b[0;34m\u001b[0m\u001b[0;34m\u001b[0m\u001b[0m\n",
            "\u001b[0;31mNameError\u001b[0m: name 'false' is not defined"
          ]
        }
      ]
    },
    {
      "cell_type": "code",
      "metadata": {
        "id": "9EALLGd-ScT2",
        "colab_type": "code",
        "outputId": "ce918662-f07c-4f12-e25b-3f90a3cc6c8a",
        "colab": {
          "base_uri": "https://localhost:8080/",
          "height": 34
        }
      },
      "source": [
        "d = {\"john\":40, \"peter\":45}\n",
        "d[\"john\"]\n",
        "\n"
      ],
      "execution_count": 0,
      "outputs": [
        {
          "output_type": "execute_result",
          "data": {
            "text/plain": [
              "40"
            ]
          },
          "metadata": {
            "tags": []
          },
          "execution_count": 55
        }
      ]
    },
    {
      "cell_type": "code",
      "metadata": {
        "id": "ZG0uYOcXS0lE",
        "colab_type": "code",
        "outputId": "5093c5df-8531-4136-a254-460f896e242f",
        "colab": {
          "base_uri": "https://localhost:8080/",
          "height": 163
        }
      },
      "source": [
        "number = '5'*'5' \n"
      ],
      "execution_count": 0,
      "outputs": [
        {
          "output_type": "error",
          "ename": "TypeError",
          "evalue": "ignored",
          "traceback": [
            "\u001b[0;31m---------------------------------------------------------------------------\u001b[0m",
            "\u001b[0;31mTypeError\u001b[0m                                 Traceback (most recent call last)",
            "\u001b[0;32m<ipython-input-57-e0cd5fdfa556>\u001b[0m in \u001b[0;36m<module>\u001b[0;34m()\u001b[0m\n\u001b[0;32m----> 1\u001b[0;31m \u001b[0mnumber\u001b[0m \u001b[0;34m=\u001b[0m \u001b[0;34m'5'\u001b[0m\u001b[0;34m*\u001b[0m\u001b[0;34m'5'\u001b[0m\u001b[0;34m\u001b[0m\u001b[0;34m\u001b[0m\u001b[0m\n\u001b[0m",
            "\u001b[0;31mTypeError\u001b[0m: can't multiply sequence by non-int of type 'str'"
          ]
        }
      ]
    },
    {
      "cell_type": "code",
      "metadata": {
        "id": "KdzJbc6rTCMy",
        "colab_type": "code",
        "outputId": "0ff3c83f-158a-4e6a-c595-71c99a0c0af5",
        "colab": {
          "base_uri": "https://localhost:8080/",
          "height": 34
        }
      },
      "source": [
        "a=2**2\n",
        "print(a)"
      ],
      "execution_count": 0,
      "outputs": [
        {
          "output_type": "stream",
          "text": [
            "4\n"
          ],
          "name": "stdout"
        }
      ]
    },
    {
      "cell_type": "code",
      "metadata": {
        "id": "eneGSab5fEBb",
        "colab_type": "code",
        "colab": {}
      },
      "source": [
        ""
      ],
      "execution_count": 0,
      "outputs": []
    },
    {
      "cell_type": "markdown",
      "metadata": {
        "id": "8howZjezfGVj",
        "colab_type": "text"
      },
      "source": [
        "# print list item\n"
      ]
    },
    {
      "cell_type": "code",
      "metadata": {
        "id": "hAugamdQfL7r",
        "colab_type": "code",
        "colab": {
          "base_uri": "https://localhost:8080/",
          "height": 123
        },
        "outputId": "a3d500b8-55e5-42a3-d209-c6170082b63b"
      },
      "source": [
        "li=[1,2,3,4,5]\n",
        "print(li)\n",
        "del li[2]\n",
        "print(li)\n",
        "print(len(li))\n",
        "print(li*2)\n",
        "li[1]=9\n",
        "print(li)\n",
        "print(4 in li)"
      ],
      "execution_count": 63,
      "outputs": [
        {
          "output_type": "stream",
          "text": [
            "[1, 2, 3, 4, 5]\n",
            "[1, 2, 4, 5]\n",
            "4\n",
            "[1, 2, 4, 5, 1, 2, 4, 5]\n",
            "[1, 9, 4, 5]\n",
            "True\n"
          ],
          "name": "stdout"
        }
      ]
    },
    {
      "cell_type": "markdown",
      "metadata": {
        "id": "n4_c9Pcff4av",
        "colab_type": "text"
      },
      "source": [
        "# list functions\n",
        "- max\n",
        "- min\n",
        "-sum\n",
        "- append\n",
        "- insert\n",
        "-count\n",
        "- index\n",
        "- sort\n",
        "-pop\n"
      ]
    },
    {
      "cell_type": "markdown",
      "metadata": {
        "id": "QP94rFoygZ7B",
        "colab_type": "text"
      },
      "source": [
        "# print max of list\n"
      ]
    },
    {
      "cell_type": "code",
      "metadata": {
        "id": "RE-9mGeXgfGW",
        "colab_type": "code",
        "colab": {
          "base_uri": "https://localhost:8080/",
          "height": 238
        },
        "outputId": "a82c4749-69ba-42da-933f-b646c555d089"
      },
      "source": [
        "li=[1,2,3,45,6]\n",
        "print(max(li))\n",
        "print(min(li))\n"
      ],
      "execution_count": 66,
      "outputs": [
        {
          "output_type": "stream",
          "text": [
            "45\n",
            "1\n"
          ],
          "name": "stdout"
        },
        {
          "output_type": "error",
          "ename": "TypeError",
          "evalue": "ignored",
          "traceback": [
            "\u001b[0;31m---------------------------------------------------------------------------\u001b[0m",
            "\u001b[0;31mTypeError\u001b[0m                                 Traceback (most recent call last)",
            "\u001b[0;32m<ipython-input-66-266774f176b9>\u001b[0m in \u001b[0;36m<module>\u001b[0;34m()\u001b[0m\n\u001b[1;32m      2\u001b[0m \u001b[0mprint\u001b[0m\u001b[0;34m(\u001b[0m\u001b[0mmax\u001b[0m\u001b[0;34m(\u001b[0m\u001b[0mli\u001b[0m\u001b[0;34m)\u001b[0m\u001b[0;34m)\u001b[0m\u001b[0;34m\u001b[0m\u001b[0;34m\u001b[0m\u001b[0m\n\u001b[1;32m      3\u001b[0m \u001b[0mprint\u001b[0m\u001b[0;34m(\u001b[0m\u001b[0mmin\u001b[0m\u001b[0;34m(\u001b[0m\u001b[0mli\u001b[0m\u001b[0;34m)\u001b[0m\u001b[0;34m)\u001b[0m\u001b[0;34m\u001b[0m\u001b[0;34m\u001b[0m\u001b[0m\n\u001b[0;32m----> 4\u001b[0;31m \u001b[0mprint\u001b[0m\u001b[0;34m(\u001b[0m\u001b[0msum\u001b[0m\u001b[0;34m(\u001b[0m\u001b[0mli\u001b[0m\u001b[0;34m)\u001b[0m\u001b[0;34m)\u001b[0m\u001b[0;34m\u001b[0m\u001b[0;34m\u001b[0m\u001b[0m\n\u001b[0m",
            "\u001b[0;31mTypeError\u001b[0m: 'int' object is not callable"
          ]
        }
      ]
    }
  ]
}